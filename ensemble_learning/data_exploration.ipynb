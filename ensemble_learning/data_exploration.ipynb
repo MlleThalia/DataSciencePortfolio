{
 "cells": [
  {
   "cell_type": "markdown",
   "metadata": {},
   "source": [
    "### Introduction\n",
    "\n",
    "Avant de commencer toute étude nous allons procéder à une exploration de nos données afin de mieux attaquer l'apprentissage des modèles. Pour cela nous allons pour chaque dataset, analyser les six paramètres suivant: \n",
    "- samples:\tNombre total d’exemples\n",
    "- features:\tNombre de features\n",
    "- classes:\tNombre de classes \n",
    "- majority:\tNombre d’exemples de la classe majoritaire\n",
    "- minority:\tNombre d’exemples de la classe minoritaire\n",
    "- imbalance_ratio:\tRatio minorité / majorité"
   ]
  },
  {
   "cell_type": "markdown",
   "metadata": {},
   "source": [
    "### Importation des packages"
   ]
  },
  {
   "cell_type": "code",
   "execution_count": 1,
   "metadata": {},
   "outputs": [],
   "source": [
    "import pandas as pd\n",
    "import numpy as np\n",
    "from scripts.data_exploration import *\n",
    "from scripts.prepdata import data_recovery\n",
    "from scripts.convert_to_latex import inject_table_in_template, remove_pdf_if_exists"
   ]
  },
  {
   "cell_type": "markdown",
   "metadata": {},
   "source": [
    "### Récupération des données"
   ]
  },
  {
   "cell_type": "code",
   "execution_count": 2,
   "metadata": {},
   "outputs": [],
   "source": [
    "datasets_list = [\"abalone8\", \"abalone20\", \"abalone17\", \"autompg\", \"australian\", \"balance\", \"bankmarketing\",\n",
    "                 \"bupa\", \"german\", \"glass\", \"hayes\", \"heart\", \"iono\", \"libras\", \"newthyroid\", \"pageblocks\", \"pima\",\n",
    "                 \"satimage\", \"segmentation\", \"sonar\", \"spambase\", \"splice\", \"vehicle\", \"wdbc\", \"wine\", \"wine4\", \"yeast3\",\n",
    "                 \"yeast6\"]"
   ]
  },
  {
   "cell_type": "markdown",
   "metadata": {},
   "source": [
    "### Création du tableau de résultats"
   ]
  },
  {
   "cell_type": "code",
   "execution_count": 3,
   "metadata": {},
   "outputs": [],
   "source": [
    "results_df = pd.DataFrame(index = datasets_list, columns=[\"nsamples\",\n",
    "            \"nfeatures\",\n",
    "            \"nclasses\",\n",
    "            \"majority\",\n",
    "            \"minority\",\n",
    "            \"imbalanceratio\"])"
   ]
  },
  {
   "cell_type": "markdown",
   "metadata": {},
   "source": [
    "### Exploration des données"
   ]
  },
  {
   "cell_type": "code",
   "execution_count": 4,
   "metadata": {},
   "outputs": [
    {
     "name": "stdout",
     "output_type": "stream",
     "text": [
      "              nsamples nfeatures nclasses majority minority imbalanceratio\n",
      "abalone8          4177        10        2     3609      568          0.157\n",
      "abalone20         4177        10        2     4151       26          0.006\n",
      "abalone17         4177        10        2     4119       58          0.014\n",
      "autompg            392         7        2      245      147            0.6\n",
      "australian         690        14        2      383      307          0.802\n",
      "balance            625         4        2      337      288          0.855\n",
      "bankmarketing    45211        51        2    39922     5289          0.132\n",
      "bupa               345         6        2      200      145          0.725\n",
      "german            1000        24        2      700      300          0.429\n",
      "glass              214         9        2      144       70          0.486\n",
      "hayes              132         4        2      102       30          0.294\n",
      "heart              270        13        2      150      120            0.8\n",
      "iono               351        34        2      225      126           0.56\n",
      "libras             360        90        2      336       24          0.071\n",
      "newthyroid         215         5        2      150       65          0.433\n",
      "pageblocks        5473        10        2     4913      560          0.114\n",
      "pima               768         8        2      500      268          0.536\n",
      "satimage          6435        36        2     5809      626          0.108\n",
      "segmentation      2310        19        2     1980      330          0.167\n",
      "sonar              208        60        2      111       97          0.874\n",
      "spambase          4597        57        2     2785     1812          0.651\n",
      "splice            3175        60        2     1648     1527          0.927\n",
      "vehicle            846        18        2      647      199          0.308\n",
      "wdbc               569        30        2      357      212          0.594\n",
      "wine               178        13        2      119       59          0.496\n",
      "wine4             1599        11        2     1546       53          0.034\n",
      "yeast3            1484         8        2     1321      163          0.123\n",
      "yeast6            1484         8        2     1449       35          0.024\n"
     ]
    }
   ],
   "source": [
    "for dataset_name in datasets_list:\n",
    "    dataset = data_recovery(dataset_name)\n",
    "    x,y = dataset\n",
    "    dataset_exploration_list = summarize_datasets(x, y)\n",
    "    results_df.loc[dataset_name] = dataset_exploration_list\n",
    "print(results_df)"
   ]
  },
  {
   "cell_type": "markdown",
   "metadata": {},
   "source": [
    "### Conversion du tableau des résultats en tableau latex"
   ]
  },
  {
   "cell_type": "code",
   "execution_count": 5,
   "metadata": {},
   "outputs": [
    {
     "name": "stdout",
     "output_type": "stream",
     "text": [
      "✅ Fichier supprimé : data_exploration_results.pdf\n",
      "✅ Compilation réussie → data_exploration_results.pdf\n"
     ]
    }
   ],
   "source": [
    "results_df_copy = results_df.copy()\n",
    "results_df_copy.index.name = \"Dataset\"\n",
    "results_df_copy = results_df_copy.reset_index()\n",
    "results_df_latex = results_df_copy.to_latex(\n",
    "        index=False,\n",
    "        escape=False,\n",
    "        column_format=\"l\" + \"c\"*(results_df_copy.shape[1]-1),\n",
    "        caption=\"Data exploration\",\n",
    "        label=\"tab:results\", float_format=\"%.2f\")\n",
    "remove_pdf_if_exists(\"data_exploration_results.pdf\")\n",
    "inject_table_in_template(results_df_latex, output_pdf=\"data_exploration_results.pdf\")"
   ]
  },
  {
   "cell_type": "markdown",
   "metadata": {},
   "source": [
    "### Sélection et séparation des datasets\n",
    "Nous avons au minimum besoin de 20 datasets. Donc nous allons supprimer les datasets avec moins de 300 observations\n",
    "\n",
    "Dans la suite, nous aurons à faire principalement deux études. Une première sera de comparer les performances de six modèles sur nos datasets. La deuxième sera d'étudier les méthodes d'échantillonnage. Pour cela, nous allons départager les deux listes de dataset en nous basant sur le paramètre imbalance_ratio. Nous aurons donc deux listes: \n",
    "- une pour les datasets équilibrés/modérément déséquilibrés,\n",
    "- une pour les datasets très déséquilibrés (imbalance_ratio < 0.2)."
   ]
  },
  {
   "cell_type": "code",
   "execution_count": 7,
   "metadata": {},
   "outputs": [
    {
     "name": "stdout",
     "output_type": "stream",
     "text": [
      "balanced_or_moderate: ['autompg', 'australian', 'balance', 'bupa', 'german', 'iono', 'pima', 'spambase', 'splice', 'vehicle', 'wdbc']\n",
      "highly_imbalanced: ['abalone8', 'abalone20', 'abalone17', 'bankmarketing', 'libras', 'pageblocks', 'satimage', 'segmentation', 'wine4', 'yeast3', 'yeast6']\n"
     ]
    }
   ],
   "source": [
    "balanced_or_moderate, highly_imbalanced = split_datasets_by_balance(results_df, imbalance_threshold=0.2)\n",
    "print(f\"balanced_or_moderate: {balanced_or_moderate}\")\n",
    "print(f\"highly_imbalanced: {highly_imbalanced}\")"
   ]
  }
 ],
 "metadata": {
  "kernelspec": {
   "display_name": "Python 3",
   "language": "python",
   "name": "python3"
  },
  "language_info": {
   "codemirror_mode": {
    "name": "ipython",
    "version": 3
   },
   "file_extension": ".py",
   "mimetype": "text/x-python",
   "name": "python",
   "nbconvert_exporter": "python",
   "pygments_lexer": "ipython3",
   "version": "3.11.6"
  }
 },
 "nbformat": 4,
 "nbformat_minor": 2
}
