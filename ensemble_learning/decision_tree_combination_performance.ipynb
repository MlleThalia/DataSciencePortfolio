{
 "cells": [
  {
   "cell_type": "markdown",
   "metadata": {},
   "source": [
    "### Introduction\n",
    "\n",
    "Dans cette partie nous allons comparer une simple DecisionTree à un modèle combinant plusieurs modèles DecisionTree avec la méthode de bagging. Pour cela nous allons fixer tous les hyperparamètres et ne faire varier que n_estimators pour générer plusieurs modèles. Donc il ne sera pas nécessaire d'implémenter une cross_validation.\n",
    "\n",
    "La n_estimators_list = [1, 5, 10, 20, 50, 100], sachant que n_estimators=1 est une DecisionTree simple."
   ]
  },
  {
   "cell_type": "markdown",
   "metadata": {},
   "source": [
    "### Importation des packages"
   ]
  },
  {
   "cell_type": "code",
   "execution_count": 1,
   "metadata": {},
   "outputs": [],
   "source": [
    "import pandas as pd\n",
    "import warnings\n",
    "warnings.filterwarnings(\"ignore\")\n",
    "\n",
    "from scripts.prepdata import data_recovery\n",
    "from scripts.cross_validation import decion_tree_bagging_fit\n",
    "from scripts.convert_to_latex import inject_table_in_template, remove_pdf_if_exists"
   ]
  },
  {
   "cell_type": "markdown",
   "metadata": {},
   "source": [
    "### Récupération des données"
   ]
  },
  {
   "cell_type": "code",
   "execution_count": null,
   "metadata": {},
   "outputs": [],
   "source": [
    "datasets_list = ['autompg', 'australian', 'balance', 'bupa', 'german', 'iono', 'pima', 'spambase', 'splice', 'vehicle', 'wdbc']"
   ]
  },
  {
   "cell_type": "markdown",
   "metadata": {},
   "source": [
    "### Création du tableau de résultats"
   ]
  },
  {
   "cell_type": "code",
   "execution_count": 3,
   "metadata": {},
   "outputs": [],
   "source": [
    "results_df = pd.DataFrame(index = datasets_list)"
   ]
  },
  {
   "cell_type": "markdown",
   "metadata": {},
   "source": [
    "### Apprentissage des différents modèles avec n_estimators in [1, 5, 10, 20, 50, 100]"
   ]
  },
  {
   "cell_type": "code",
   "execution_count": 4,
   "metadata": {},
   "outputs": [],
   "source": [
    "n_estimators_list = [1, 5, 10, 20, 50, 100]\n",
    "for n_estimators in n_estimators_list: \n",
    "    n_estimators_list = []\n",
    "    col_name = f\" n = {n_estimators:.1f}\"\n",
    "    for dataset_name in datasets_list:\n",
    "        dataset = data_recovery(dataset_name)\n",
    "        x,y = dataset\n",
    "        n_estimators_list.append(decion_tree_bagging_fit(x, y, n_estimators))\n",
    "    results_df[col_name] = n_estimators_list\n"
   ]
  },
  {
   "cell_type": "markdown",
   "metadata": {},
   "source": [
    "### Conversion du tableau de résultats en tableau latex"
   ]
  },
  {
   "cell_type": "code",
   "execution_count": null,
   "metadata": {},
   "outputs": [
    {
     "name": "stdout",
     "output_type": "stream",
     "text": [
      "✅ Fichier supprimé : decision_tree_combination_performance_results.pdf\n",
      "✅ Compilation réussie → decision_tree_combination_performance_results.pdf\n"
     ]
    }
   ],
   "source": [
    "results_df.index.name = \"Dataset\"\n",
    "results_df = results_df.reset_index()\n",
    "results_df_latex = results_df.to_latex(\n",
    "        index=False,\n",
    "        escape=False,\n",
    "        column_format=\"l\" + \"c\"*(results_df.shape[1]-1),\n",
    "        caption=\"Decision tree bagging comparison\",\n",
    "        label=\"tab:results\", float_format=\"%.2f\")\n",
    "remove_pdf_if_exists(\"docs/decision_tree_combination_performance_results.pdf\")\n",
    "inject_table_in_template(results_df_latex, output_pdf=\"docs/decision_tree_combination_performance_results.pdf\")"
   ]
  }
 ],
 "metadata": {
  "kernelspec": {
   "display_name": "Python 3",
   "language": "python",
   "name": "python3"
  },
  "language_info": {
   "codemirror_mode": {
    "name": "ipython",
    "version": 3
   },
   "file_extension": ".py",
   "mimetype": "text/x-python",
   "name": "python",
   "nbconvert_exporter": "python",
   "pygments_lexer": "ipython3",
   "version": "3.11.6"
  }
 },
 "nbformat": 4,
 "nbformat_minor": 2
}
